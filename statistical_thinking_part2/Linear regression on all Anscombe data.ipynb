{
 "cells": [
  {
   "cell_type": "code",
   "execution_count": 1,
   "metadata": {},
   "outputs": [],
   "source": [
    "import numpy as np\n",
    "import pandas as pd"
   ]
  },
  {
   "cell_type": "code",
   "execution_count": 6,
   "metadata": {},
   "outputs": [],
   "source": [
    "x1 = np.array((10.,  8., 13.,  9., 11., 14.,  6.,  4., 12.,  7.,  5.))\n",
    "x2 = np.array((10.,  8., 13.,  9., 11., 14.,  6.,  4., 12.,  7.,  5.))\n",
    "x3 = np.array((10.,  8., 13.,  9., 11., 14.,  6.,  4., 12.,  7.,  5.))\n",
    "x4 = np.array((8.,  8.,  8.,  8.,  8.,  8.,  8., 19.,  8.,  8.,  8.))\n",
    "\n",
    "y1 = np.array((8.04,  6.95,  7.58,  8.81,  8.33,  9.96,  7.24,  4.26, 10.84,4.82,  5.68))\n",
    "y2 = np.array((9.14, 8.14, 8.74, 8.77, 9.26, 8.1 , 6.13, 3.1 , 9.13, 7.26, 4.74))\n",
    "y3 = np.array((7.46,  6.77, 12.74,  7.11,  7.81,  8.84,  6.08,  5.39,  8.15,\n",
    "         6.42,  5.73))\n",
    "y4 = np.array((6.58,  5.76,  7.71,  8.84,  8.47,  7.04,  5.25, 12.5 ,  5.56,\n",
    "         7.91,  6.89))"
   ]
  },
  {
   "cell_type": "code",
   "execution_count": 7,
   "metadata": {},
   "outputs": [],
   "source": [
    "anscombe_x = [x1, x2, x3, x4]\n",
    "anscombe_y = [y1, y2, y3, y4]"
   ]
  },
  {
   "cell_type": "code",
   "execution_count": 9,
   "metadata": {},
   "outputs": [
    {
     "name": "stdout",
     "output_type": "stream",
     "text": [
      "slope: 0.5000909090909095 intercept: 3.000090909090909\n",
      "slope: 0.5000000000000004 intercept: 3.0009090909090896\n",
      "slope: 0.4997272727272731 intercept: 3.0024545454545453\n",
      "slope: 0.4999090909090908 intercept: 3.0017272727272735\n"
     ]
    }
   ],
   "source": [
    "for x, y in zip(anscombe_x, anscombe_y):\n",
    "    # Compute slope and intercept\n",
    "    a, b = np.polyfit(x,y, 1)\n",
    "    #Print the results\n",
    "    print('slope:', a, 'intercept:',b)"
   ]
  },
  {
   "cell_type": "code",
   "execution_count": null,
   "metadata": {},
   "outputs": [],
   "source": []
  }
 ],
 "metadata": {
  "kernelspec": {
   "display_name": "Python 3 (ipykernel)",
   "language": "python",
   "name": "python3"
  },
  "language_info": {
   "codemirror_mode": {
    "name": "ipython",
    "version": 3
   },
   "file_extension": ".py",
   "mimetype": "text/x-python",
   "name": "python",
   "nbconvert_exporter": "python",
   "pygments_lexer": "ipython3",
   "version": "3.7.5"
  }
 },
 "nbformat": 4,
 "nbformat_minor": 2
}
