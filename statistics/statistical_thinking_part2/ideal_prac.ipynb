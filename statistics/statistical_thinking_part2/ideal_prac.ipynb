{
 "cells": [
  {
   "cell_type": "code",
   "execution_count": 85,
   "metadata": {},
   "outputs": [],
   "source": [
    "import pandas as pd\n",
    "import numpy as np\n",
    "import matplotlib.pyplot as plt\n",
    "import os"
   ]
  },
  {
   "cell_type": "markdown",
   "metadata": {},
   "source": [
    "### Prepare random samples"
   ]
  },
  {
   "cell_type": "code",
   "execution_count": 86,
   "metadata": {},
   "outputs": [],
   "source": [
    "rainfall = np.array(( 875.5,  648.2,  788.1,  940.3,  491.1,  743.5,  730.1,  686.5,\n",
    "        878.8,  865.6,  654.9,  831.5,  798.1,  681.8,  743.8,  689.1,\n",
    "        752.1,  837.2,  710.6,  749.2,  967.1,  701.2,  619. ,  747.6,\n",
    "        803.4,  645.6,  804.1,  787.4,  646.8,  997.1,  774. ,  734.5,\n",
    "        835. ,  840.7,  659.6,  828.3,  909.7,  856.9,  578.3,  904.2,\n",
    "        883.9,  740.1,  773.9,  741.4,  866.8,  871.1,  712.5,  919.2,\n",
    "        927.9,  809.4,  633.8,  626.8,  871.3,  774.3,  898.8,  789.6,\n",
    "        936.3,  765.4,  882.1,  681.1,  661.3,  847.9,  683.9,  985.7,\n",
    "        771.1,  736.6,  713.2,  774.5,  937.7,  694.5,  598.2,  983.8,\n",
    "        700.2,  901.3,  733.5,  964.4,  609.3, 1035.2,  718. ,  688.6,\n",
    "        736.8,  643.3, 1038.5,  969. ,  802.7,  876.6,  944.7,  786.6,\n",
    "        770.4,  808.6,  761.3,  774.2,  559.3,  674.2,  883.6,  823.9,\n",
    "        960.4,  877.8,  940.6,  831.8,  906.2,  866.5,  674.1,  998.1,\n",
    "        789.3,  915. ,  737.1,  763. ,  666.7,  824.5,  913.8,  905.1,\n",
    "        667.8,  747.4,  784.7,  925.4,  880.2, 1086.9,  764.4, 1050.1,\n",
    "        595.2,  855.2,  726.9,  785.2,  948.8,  970.6,  896. ,  618.4,\n",
    "        572.4, 1146.4,  728.2,  864.2,  793.))\n",
    "\n",
    "np.random.seed(42)\n",
    "frog_1 = np.random.random(size=100)\n",
    "frog_2 = np.random.random(size=100)"
   ]
  },
  {
   "cell_type": "code",
   "execution_count": 87,
   "metadata": {},
   "outputs": [],
   "source": [
    "light_speed = pd.read_csv(\"michelson_speed_of_light.csv\")[\"velocity of light in air (km/s)\"]"
   ]
  },
  {
   "cell_type": "code",
   "execution_count": 88,
   "metadata": {},
   "outputs": [],
   "source": [
    "from random import gauss\n",
    "\n",
    "def gauss_random(start, end, size):\n",
    "    g_dat = np.empty(size)\n",
    "    for i in range(size):\n",
    "        g_dat[i] = abs(gauss(start, end))\n",
    "    return g_dat\n",
    "\n",
    "# frog_1 = gauss_random(0,1,1000)\n",
    "# frog_2 = gauss_random(25, 75, 100) \n",
    "\n",
    "# plt.hist(frog_1)"
   ]
  },
  {
   "cell_type": "code",
   "execution_count": 89,
   "metadata": {},
   "outputs": [],
   "source": [
    "def ecdf(data):\n",
    "    x = np.sort(data)\n",
    "    y = np.arange(1, len(data)+1)/len(data)\n",
    "    return x, y\n",
    "\n",
    "frog_1_ecdf = ecdf(frog_1)\n",
    "frog_2_ecdf = ecdf(frog_2)"
   ]
  },
  {
   "cell_type": "markdown",
   "metadata": {},
   "source": [
    "# Generating bootstraping sample"
   ]
  },
  {
   "cell_type": "code",
   "execution_count": 80,
   "metadata": {},
   "outputs": [
    {
     "name": "stdout",
     "output_type": "stream",
     "text": [
      "Mean: 299849.0\n",
      "med: 299825.0\n",
      "std: 49.48737212663449\n"
     ]
    }
   ],
   "source": [
    "# boostrap sample\n",
    "boot_sample = np.random.choice(light_speed, size=10)\n",
    "\n",
    "# boostrap replicate\n",
    "print(\"Mean:\",np.mean(boot_sample))\n",
    "print(\"med:\",np.median(boot_sample))\n",
    "print(\"std:\",np.std(boot_sample))\n"
   ]
  },
  {
   "cell_type": "code",
   "execution_count": 81,
   "metadata": {},
   "outputs": [
    {
     "name": "stdout",
     "output_type": "stream",
     "text": [
      "299851.5\n",
      "299847.0\n"
     ]
    }
   ],
   "source": [
    "# boostrap replicate function\n",
    "def bootstrap_replicate1d(data, func):\n",
    "    bs_sample = np.random.choice(data, len(data))\n",
    "    return func(bs_sample)\n",
    "\n",
    "print(bootstrap_replicate1d(light_speed, np.mean))\n",
    "print(bootstrap_replicate1d(boot_sample, np.mean))"
   ]
  },
  {
   "cell_type": "code",
   "execution_count": 83,
   "metadata": {},
   "outputs": [
    {
     "data": {
      "text/plain": [
       "array([299840.5, 299869.7, 299847.9, ..., 299851.6, 299841.8, 299844.5])"
      ]
     },
     "execution_count": 83,
     "metadata": {},
     "output_type": "execute_result"
    }
   ],
   "source": [
    "# Many bootstrap replicates\n",
    "def draw_bs_reps(data, func, size=1):\n",
    "    bs_replicates = np.empty(size)\n",
    "    \n",
    "    for i in range(size):\n",
    "        bs_replicates[i] = bootstrap_replicate1d(data,func)\n",
    "    return bs_replicates\n",
    "\n",
    "draw_bs_reps(light_speed, np.mean, 10000)"
   ]
  },
  {
   "cell_type": "code",
   "execution_count": 84,
   "metadata": {},
   "outputs": [
    {
     "name": "stdout",
     "output_type": "stream",
     "text": [
      "SEM: 7.861450247886836\n",
      "STD of bootstrap replicates: 7.8447176296921635\n",
      "0.9999999999999998\n"
     ]
    },
    {
     "data": {
      "image/png": "[encoded data removed]",
      "text/plain": [
       "<Figure size 720x720 with 1 Axes>"
      ]
     },
     "metadata": {
      "needs_background": "light"
     },
     "output_type": "display_data"
    }
   ],
   "source": [
    "# bootstrap replicates of mean and SEM\n",
    "bs_replicates = draw_bs_reps(light_speed, np.mean, 10000)\n",
    "\n",
    "# compute SEM\n",
    "std_err_mean = np.std(light_speed)/np.sqrt(len(light_speed))\n",
    "print(\"SEM:\",std_err_mean)\n",
    "\n",
    "# compute std of bs_replicates\n",
    "bs_std = np.std(bs_replicates)\n",
    "print(\"STD of bootstrap replicates:\", bs_std)\n",
    "\n",
    "#  PLot hist of bs_replicates drawn from sample\n",
    "_ = plt.rcParams[\"figure.figsize\"] = (10,10)\n",
    "_ = plt.hist(bs_replicates, bins=50,\n",
    "            density=True,histtype='step')\n",
    "_ = plt.ylim(0,1)\n",
    "_ = plt.xlabel('Mean frog_1 replicates:')\n",
    "_ = plt.ylabel('PDF')\n",
    "\n",
    "print((hist * np.diff(bins)).sum())\n",
    "plt.show()"
   ]
  },
  {
   "cell_type": "code",
   "execution_count": 33,
   "metadata": {},
   "outputs": [],
   "source": []
  },
  {
   "cell_type": "code",
   "execution_count": null,
   "metadata": {},
   "outputs": [],
   "source": []
  }
 ],
 "metadata": {
  "kernelspec": {
   "display_name": "Python 3 (ipykernel)",
   "language": "python",
   "name": "python3"
  },
  "language_info": {
   "codemirror_mode": {
    "name": "ipython",
    "version": 3
   },
   "file_extension": ".py",
   "mimetype": "text/x-python",
   "name": "python",
   "nbconvert_exporter": "python",
   "pygments_lexer": "ipython3",
   "version": "3.7.5"
  }
 },
 "nbformat": 4,
 "nbformat_minor": 2
}
