{
 "cells": [
  {
   "cell_type": "code",
   "execution_count": 1,
   "metadata": {},
   "outputs": [],
   "source": [
    "import pandas as pd\n",
    "import numpy as np\n",
    "import matplotlib.pyplot as plt\n",
    "import os\n"
   ]
  },
  {
   "cell_type": "markdown",
   "metadata": {},
   "source": [
    "### Prepare data samples"
   ]
  },
  {
   "cell_type": "code",
   "execution_count": 66,
   "metadata": {},
   "outputs": [],
   "source": [
    "np.random.seed(42)\n",
    "frog_1 = np.random.normal(20, 2, 100)\n",
    "frog_2 = np.random.normal(25, 3, 100)"
   ]
  },
  {
   "cell_type": "code",
   "execution_count": 67,
   "metadata": {},
   "outputs": [],
   "source": [
    "def ecdf(data):\n",
    "    x = np.sort(data)\n",
    "    y = np.arange(1, len(data)+1)/len(data)\n",
    "    return x, y\n",
    "\n",
    "frog_1_ecdf = ecdf(frog_1)\n",
    "frog_2_ecdf = ecdf(frog_2)\n"
   ]
  },
  {
   "cell_type": "code",
   "execution_count": 68,
   "metadata": {},
   "outputs": [],
   "source": [
    "# get ggaussian \n",
    "from random import gauss\n",
    "def gauss_(mu, sigma, size):\n",
    "    g_data = np.empty(size)\n",
    "    for i in range(len(g_data)):\n",
    "        g_data[i] = gauss(mu, sigma)\n",
    "    return g_data\n",
    "\n",
    "frog_3 = gauss_(20, 2.5, 100)\n",
    "frog_3_ecdf = ecdf(frog_3)"
   ]
  },
  {
   "cell_type": "markdown",
   "metadata": {},
   "source": [
    "### generating bootstraping samples"
   ]
  },
  {
   "cell_type": "code",
   "execution_count": 5,
   "metadata": {},
   "outputs": [
    {
     "name": "stdout",
     "output_type": "stream",
     "text": [
      "19.79230696521181 1.8072323532892591\n",
      "19.69962029942796 1.8072323532892591\n"
     ]
    }
   ],
   "source": [
    "\n",
    "print(np.mean(frog_1), np.std(frog_1))\n",
    "bs_sample = np.random.choice(frog_1, len(frog_1))\n",
    "print(np.mean(bs_sample), np.std(frog_1))"
   ]
  },
  {
   "cell_type": "code",
   "execution_count": 6,
   "metadata": {},
   "outputs": [
    {
     "data": {
      "text/plain": [
       "19.707727195449422"
      ]
     },
     "execution_count": 6,
     "metadata": {},
     "output_type": "execute_result"
    }
   ],
   "source": [
    "# draw bootstra replicates form bootstrap samples\n",
    "\n",
    "def bs_replicate1d(data, func):\n",
    "    bs_sample = np.random.choice(data, len(data))\n",
    "    return func(bs_sample)\n",
    "\n",
    "bs_replicate1d(frog_1, np.mean)"
   ]
  },
  {
   "cell_type": "code",
   "execution_count": 7,
   "metadata": {},
   "outputs": [
    {
     "data": {
      "image/png": "[encoded data removed]",
      "text/plain": [
       "<Figure size 432x288 with 1 Axes>"
      ]
     },
     "metadata": {
      "needs_background": "light"
     },
     "output_type": "display_data"
    }
   ],
   "source": [
    "# dra bootstrap samples of size n\n",
    "def draw_bs_reps(data, func, size=1):\n",
    "    bs_replicates = np.empty(size)\n",
    "    for i in range(size):\n",
    "        bs_replicates[i] = bs_replicate1d(data, func)\n",
    "    return bs_replicates\n",
    "\n",
    "plt_bs_reps = draw_bs_reps(frog_1, np.mean, 10000)\n",
    "_ = plt.hist(plt_bs_reps, bins=50, histtype='step',density=True)\n",
    "_ = plt.axvline(frog_1.mean(), linestyle='dashed', color='k')\n",
    "plt.show()"
   ]
  },
  {
   "cell_type": "markdown",
   "metadata": {},
   "source": [
    "### draw bootstrap replicates of mean and SEM\n",
    "if we repeat the expirements again and again , we would observe that p% of observations lies within p% confidence interval."
   ]
  },
  {
   "cell_type": "code",
   "execution_count": 8,
   "metadata": {},
   "outputs": [
    {
     "name": "stdout",
     "output_type": "stream",
     "text": [
      "SEM: 0.18072323532892592 \n",
      "STD: 0.18058718360551376\n",
      "1.0\n",
      "Confidence intervals: [19.43839255 20.14571361]\n"
     ]
    },
    {
     "data": {
      "image/png": "[encoded data removed]",
      "text/plain": [
       "<Figure size 1080x576 with 1 Axes>"
      ]
     },
     "metadata": {
      "needs_background": "light"
     },
     "output_type": "display_data"
    }
   ],
   "source": [
    "\n",
    "bs_replicates = draw_bs_reps(frog_1, np.mean, 10000)\n",
    "\n",
    "# computer SEM \n",
    "sem = np.std(frog_1)/np.sqrt(len(frog_1))\n",
    "std = np.std(bs_replicates)\n",
    "\n",
    "print(\"SEM:\",sem, \"\\nSTD:\",std)\n",
    "\n",
    "# plt histogram\n",
    "_ = plt.rcParams[\"figure.figsize\"] = (15,8)\n",
    "hist, bins, patches = plt.hist(bs_replicates, density=True, bins=50, histtype=\"step\")\n",
    "_ = plt.xlabel(\"Mean frog_1 bootstrap replicates\")\n",
    "_ = plt.ylabel(\"PDF\")\n",
    "_ = plt.axvline(frog_1.mean(), color='k', linestyle='dashed')\n",
    "\n",
    "print((hist * np.diff(bins)).sum())\n",
    "ci = np.percentile(bs_replicates,[2.5, 97.5])\n",
    "print(\"Confidence intervals:\",ci)\n",
    "\n",
    "plt.fill_between((ci[0], ci[1]),hist.min(), hist.max(),color='red', alpha=0.1)\n",
    "plt.show()\n"
   ]
  },
  {
   "cell_type": "code",
   "execution_count": 9,
   "metadata": {},
   "outputs": [
    {
     "name": "stdout",
     "output_type": "stream",
     "text": [
      "Confidence Interval: 2.417735508495136 4.130261330727799\n",
      "1.0\n"
     ]
    },
    {
     "data": {
      "image/png": "[encoded data removed]",
      "text/plain": [
       "<Figure size 720x576 with 1 Axes>"
      ]
     },
     "metadata": {
      "needs_background": "light"
     },
     "output_type": "display_data"
    }
   ],
   "source": [
    "# bs replicates for other statistics\n",
    "bs_replicates = draw_bs_reps(frog_1, np.var, 10000)\n",
    "bs_replicates\n",
    "\n",
    "_ = plt.rcParams[\"figure.figsize\"] = (10, 8)\n",
    "hist, bins, patches = plt.hist(bs_replicates, bins=50, density=True, histtype='step')\n",
    "_ = plt.axvline(frog_1.var(), color='red', linestyle=\"dashed\")\n",
    "\n",
    "ci = np.percentile(bs_replicates, [2.5, 97.5])\n",
    "_ = plt.fill_between([ci[0], ci[1]], hist.min(), hist.max(), alpha=0.1)\n",
    "\n",
    "print(\"Confidence Interval:\",ci[0], ci[1])\n",
    "print((hist * np.diff(bins)).sum())\n",
    "plt.show()"
   ]
  },
  {
   "cell_type": "markdown",
   "metadata": {},
   "source": [
    "### Pair bootstrapping for Linear regression\n",
    "In the above excercise, when we computed bootstrap confidence intervals on summary statistics, we did so \n",
    "\"NON-PARAMETRICALLY\". i.e we did not assume any model underlying the data. the estimates were using the data alone.\n",
    "\n",
    "- Non-parametric makes no assumption about the model or probability distribution underlying the data.\n",
    "- Linear model is a parametric estimate where we have slope and intercept.\n",
    "\n",
    "### Pair bootstrap for linear regression\n",
    "- resample data points\n",
    "- Compute slope and intercept from resampled data\n",
    "- Each slope and intercept is a bootstrap replicate.\n",
    "- Compute confidence intervals from percentiles of bootstrap replicates.\n"
   ]
  },
  {
   "cell_type": "code",
   "execution_count": 53,
   "metadata": {},
   "outputs": [
    {
     "name": "stdout",
     "output_type": "stream",
     "text": [
      "bs slope: -0.547107918642776 bs_intercept: 35.78941971233439\n",
      "Original slope: -0.21488574040716416 original intercept: 29.319998297735186\n"
     ]
    }
   ],
   "source": [
    "inds = np.arange(len(frog_1))\n",
    "bs_inds = np.random.choice(inds, len(inds))\n",
    "bs_frog1_energy = frog_1[bs_inds]\n",
    "bs_frog2_energy = frog_2[bs_inds]\n",
    "\n",
    "# perform linear regression on resamples features\n",
    "bs_slope, bs_intercept = np.polyfit(bs_frog1_energy, bs_frog2_energy, 1)\n",
    "print(\"bs slope:\",bs_slope,\"bs_intercept:\",bs_intercept)\n",
    "\n",
    "# original slope and intercept\n",
    "orig_slope, orig_intercept = np.polyfit(frog_1, frog_2, 1)\n",
    "print(\"Original slope:\",orig_slope,\"original intercept:\", orig_intercept)"
   ]
  },
  {
   "cell_type": "code",
   "execution_count": 54,
   "metadata": {},
   "outputs": [],
   "source": [
    "inds = np.arange(len(frog_1))\n",
    "bs_inds = np.random.choice(inds, len(inds))\n",
    "bs_frog1_energy = frog_1[inds]\n",
    "bs_frog2_energy = frog_2[inds]"
   ]
  },
  {
   "cell_type": "code",
   "execution_count": 75,
   "metadata": {},
   "outputs": [],
   "source": [
    "# function to draw bootstrap for pairs in linreg\n",
    "orig_slope, orig_intercept = np.polyfit(frog_1, frog_3,1)\n",
    "\n",
    "def draw_bs_pairs_linear_reg(x,y, size=1):\n",
    "    inds = np.arange(len(x))\n",
    "    \n",
    "    bs_slope_reps = np.empty(size)\n",
    "    bs_intercept_reps = np.empty(size)\n",
    "    \n",
    "    for i in range(size):\n",
    "        bs_inds = np.random.choice(inds, len(inds))\n",
    "        bs_x, bs_y = x[bs_inds], y[bs_inds]\n",
    "        bs_slope_reps[i], bs_intercept_reps[i] = np.polyfit(bs_x, bs_y, 1)\n",
    "    return bs_slope_reps, bs_intercept_reps\n",
    "\n",
    "bs_slope_reps, bs_intercept_reps = draw_bs_pairs_linear_reg(frog_1*frog_3, frog_3,10000)\n"
   ]
  },
  {
   "cell_type": "code",
   "execution_count": 76,
   "metadata": {},
   "outputs": [
    {
     "data": {
      "image/png": "[encoded data removed]",
      "text/plain": [
       "<Figure size 720x576 with 1 Axes>"
      ]
     },
     "metadata": {
      "needs_background": "light"
     },
     "output_type": "display_data"
    }
   ],
   "source": [
    "# plotting pair bootstraps for linreg\n",
    "x = np.array([0,100])\n",
    "\n",
    "# plot bootstrap lines\n",
    "for i in range(100):\n",
    "    _ = plt.plot(x, \n",
    "                bs_slope_reps[i]*x + bs_intercept_reps[i], \n",
    "                linewidth=0.5, alpha=0.2, color='red')\n",
    "\n",
    "_ = plt.plot(frog_1*frog_3, frog_3, 'o',linestyle=\"none\")\n",
    "plt.show()"
   ]
  },
  {
   "cell_type": "code",
   "execution_count": 77,
   "metadata": {},
   "outputs": [
    {
     "data": {
      "text/plain": [
       "[<matplotlib.lines.Line2D at 0x1114a7c90>]"
      ]
     },
     "execution_count": 77,
     "metadata": {},
     "output_type": "execute_result"
    },
    {
     "data": {
      "image/png": "[encoded data removed]",
      "text/plain": [
       "<Figure size 720x576 with 1 Axes>"
      ]
     },
     "metadata": {
      "needs_background": "light"
     },
     "output_type": "display_data"
    }
   ],
   "source": [
    "plt.plot(frog_1*frog_3, frog_3, 'o')"
   ]
  },
  {
   "cell_type": "code",
   "execution_count": null,
   "metadata": {},
   "outputs": [],
   "source": []
  }
 ],
 "metadata": {
  "kernelspec": {
   "display_name": "Python 3 (ipykernel)",
   "language": "python",
   "name": "python3"
  },
  "language_info": {
   "codemirror_mode": {
    "name": "ipython",
    "version": 3
   },
   "file_extension": ".py",
   "mimetype": "text/x-python",
   "name": "python",
   "nbconvert_exporter": "python",
   "pygments_lexer": "ipython3",
   "version": "3.7.5"
  }
 },
 "nbformat": 4,
 "nbformat_minor": 2
}
